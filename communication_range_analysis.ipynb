{
 "cells": [
  {
   "cell_type": "code",
   "execution_count": null,
   "id": "e0052864de185b7f",
   "metadata": {
    "collapsed": true
   },
   "outputs": [],
   "source": [
    "import numpy as np\n",
    "from Utils.GridGraph import GridGraph\n",
    "from MultiRobotTargetSearch import MultiRobotTargetSearch\n",
    "from Utils.DTMC_Utils import DTMC_Utils\n",
    "from tqdm import tqdm"
   ]
  },
  {
   "cell_type": "code",
   "execution_count": null,
   "outputs": [],
   "source": [
    "np.random.seed(12345)"
   ],
   "metadata": {
    "collapsed": false
   },
   "id": "e947b8de6e02bf94"
  },
  {
   "cell_type": "code",
   "execution_count": null,
   "outputs": [],
   "source": [
    "reference_information_state = 1\n",
    "Z_r = [4, 5, 6]\n",
    "\n",
    "print(\"The reference information state is: \" + str(reference_information_state))\n",
    "print(\"Target is observable from nodes: \" + str(Z_r))"
   ],
   "metadata": {
    "collapsed": false
   },
   "id": "45c82ba3b304f7d3"
  },
  {
   "cell_type": "code",
   "execution_count": null,
   "outputs": [],
   "source": [
    "map_width = 5  # (meters)\n",
    "map_height = 5\n",
    "\n",
    "S = map_width * map_height  # number of nodes (locations)\n",
    "\n",
    "grid_graph = GridGraph(map_width, map_height)\n",
    "grid_graph.plot_graph()"
   ],
   "metadata": {
    "collapsed": false
   },
   "id": "9d853d4cf85b94cb"
  },
  {
   "cell_type": "code",
   "execution_count": 1,
   "outputs": [
    {
     "name": "stdout",
     "output_type": "stream",
     "text": [
      "Experiment with 3 agents:\n"
     ]
    },
    {
     "ename": "NameError",
     "evalue": "name 'grid_graph' is not defined",
     "output_type": "error",
     "traceback": [
      "\u001B[0;31m---------------------------------------------------------------------------\u001B[0m",
      "\u001B[0;31mNameError\u001B[0m                                 Traceback (most recent call last)",
      "Cell \u001B[0;32mIn[1], line 10\u001B[0m\n\u001B[1;32m      8\u001B[0m \u001B[38;5;28;01mfor\u001B[39;00m agent_number \u001B[38;5;129;01min\u001B[39;00m N:\n\u001B[1;32m      9\u001B[0m     \u001B[38;5;28mprint\u001B[39m(\u001B[38;5;124mf\u001B[39m\u001B[38;5;124m\"\u001B[39m\u001B[38;5;124mExperiment with \u001B[39m\u001B[38;5;132;01m{\u001B[39;00magent_number\u001B[38;5;132;01m}\u001B[39;00m\u001B[38;5;124m agents:\u001B[39m\u001B[38;5;124m\"\u001B[39m)\n\u001B[0;32m---> 10\u001B[0m     nodesNumber \u001B[38;5;241m=\u001B[39m \u001B[43mgrid_graph\u001B[49m\u001B[38;5;241m.\u001B[39mgetNodesNumber()\n\u001B[1;32m     11\u001B[0m     consensus_times \u001B[38;5;241m=\u001B[39m []\n\u001B[1;32m     12\u001B[0m     alpha \u001B[38;5;241m=\u001B[39m \u001B[38;5;241m1\u001B[39m \u001B[38;5;241m/\u001B[39m (agent_number \u001B[38;5;241m-\u001B[39m \u001B[38;5;241m1\u001B[39m)\n",
      "\u001B[0;31mNameError\u001B[0m: name 'grid_graph' is not defined"
     ]
    }
   ],
   "source": [
    "# Configuration\n",
    "num_of_experiments = 100\n",
    "N = [3, 4, 5, 6, 7, 8]\n",
    "\n",
    "# Results storage\n",
    "average_consensus_time_same_node = []\n",
    "average_consensus_time_contiguous_node = []\n",
    "std_dev_same_node = []\n",
    "std_dev_contiguous_node = []\n",
    "\n",
    "nodesNumber = grid_graph.getNodesNumber()\n",
    "\n",
    "# Experiment Loop\n",
    "for agent_number in N:\n",
    "    print(f\"\\nRunning experiments with {agent_number} agents...\")\n",
    "    alpha = 1 / (agent_number - 1)\n",
    "    \n",
    "    # Temporary lists for each agent count\n",
    "    consensus_times_same_node = []\n",
    "    consensus_times_contiguous_node = []\n",
    "\n",
    "    # Run experiments with progress tracking\n",
    "    for _ in tqdm(range(num_of_experiments), desc=f\"{agent_number} Agents\"):\n",
    "        agents = DTMC_Utils.initAgents(agent_number, nodesNumber)\n",
    "        \n",
    "        # Same node communication\n",
    "        experiment_same_node = MultiRobotTargetSearch(agents, grid_graph, reference_information_state, Z_r, alpha)\n",
    "        experiment_same_node.run()\n",
    "        consensus_times_same_node.append(experiment_same_node.getMeanConsensusTime())\n",
    "        \n",
    "        # Contiguous node communication\n",
    "        experiment_contiguous_node = MultiRobotTargetSearch(agents, grid_graph, reference_information_state, Z_r, alpha, False)\n",
    "        experiment_contiguous_node.run()\n",
    "        consensus_times_contiguous_node.append(experiment_contiguous_node.getMeanConsensusTime())\n",
    "    \n",
    "    # Calculate and store statistics\n",
    "    average_consensus_time_same_node.append(np.mean(consensus_times_same_node))\n",
    "    std_dev_same_node.append(np.std(consensus_times_same_node))\n",
    "    \n",
    "    average_consensus_time_contiguous_node.append(np.mean(consensus_times_contiguous_node))\n",
    "    std_dev_contiguous_node.append(np.std(consensus_times_contiguous_node))\n",
    "\n",
    "# Plot the results\n",
    "DTMC_Utils.plot_average_execution_time_comparison(N, \n",
    "                            average_consensus_time_same_node, std_dev_same_node,\n",
    "                            average_consensus_time_contiguous_node, std_dev_contiguous_node, \n",
    "                            \"Number of Agents\")\n"
   ],
   "metadata": {
    "collapsed": false,
    "ExecuteTime": {
     "end_time": "2024-11-08T12:39:03.042274279Z",
     "start_time": "2024-11-08T12:39:02.388568377Z"
    }
   },
   "id": "a5884ba474e6f557"
  }
 ],
 "metadata": {
  "kernelspec": {
   "display_name": "Python 3",
   "language": "python",
   "name": "python3"
  },
  "language_info": {
   "codemirror_mode": {
    "name": "ipython",
    "version": 2
   },
   "file_extension": ".py",
   "mimetype": "text/x-python",
   "name": "python",
   "nbconvert_exporter": "python",
   "pygments_lexer": "ipython2",
   "version": "2.7.6"
  }
 },
 "nbformat": 4,
 "nbformat_minor": 5
}
