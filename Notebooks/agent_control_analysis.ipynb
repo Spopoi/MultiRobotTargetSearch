{
 "cells": [
  {
   "cell_type": "code",
   "execution_count": 1,
   "id": "initial_id",
   "metadata": {
    "collapsed": true,
    "ExecuteTime": {
     "end_time": "2024-11-22T19:41:30.215224974Z",
     "start_time": "2024-11-22T19:41:28.966496631Z"
    }
   },
   "outputs": [],
   "source": [
    "import numpy as np\n",
    "from Utils.DTMC_Utils import DTMC_Utils\n",
    "from Utils.GridGraph import GridGraph\n",
    "from MultiRobotTargetSearch import MultiRobotTargetSearch\n",
    "import matplotlib.pyplot as plt\n",
    "from matplotlib.ticker import MaxNLocator\n",
    "from tqdm import tqdm"
   ]
  },
  {
   "cell_type": "code",
   "execution_count": 2,
   "outputs": [],
   "source": [
    "np.random.seed(12345)"
   ],
   "metadata": {
    "collapsed": false,
    "ExecuteTime": {
     "end_time": "2024-11-22T19:41:30.217195242Z",
     "start_time": "2024-11-22T19:41:30.167807871Z"
    }
   },
   "id": "149b146774cb9d03"
  },
  {
   "cell_type": "code",
   "execution_count": 3,
   "outputs": [],
   "source": [
    "reference_information_state = 1"
   ],
   "metadata": {
    "collapsed": false,
    "ExecuteTime": {
     "end_time": "2024-11-22T19:41:30.217623894Z",
     "start_time": "2024-11-22T19:41:30.168223103Z"
    }
   },
   "id": "2ca8b4ee5e849a21"
  },
  {
   "cell_type": "code",
   "execution_count": null,
   "outputs": [
    {
     "name": "stderr",
     "output_type": "stream",
     "text": [
      "Processing Agents:   0%|          | 0/4 [00:00<?, ?it/s]"
     ]
    },
    {
     "name": "stdout",
     "output_type": "stream",
     "text": [
      "Processing agent: 3\n"
     ]
    },
    {
     "name": "stderr",
     "output_type": "stream",
     "text": [
      "\n",
      "Grid Processing:   0%|          | 0/4 [00:00<?, ?it/s]\u001B[A\n",
      "Grid Processing:  25%|██▌       | 1/4 [00:09<00:28,  9.57s/it]\u001B[A\n",
      "Grid Processing:  50%|█████     | 2/4 [07:00<08:11, 245.88s/it]\u001B[A"
     ]
    }
   ],
   "source": [
    "num_of_experiments = 1000\n",
    "agent_numbers = [3, 5, 7, 9]\n",
    "# grid_dimensions = [5, 8, 10, 12, 15, 20]\n",
    "grid_dimensions = [5, 8, 10, 12]\n",
    "alpha = 1\n",
    "\n",
    "X, Y = np.meshgrid(agent_numbers, grid_dimensions)\n",
    "Z = np.zeros_like(X, dtype=float)\n",
    "Z_std = np.zeros_like(X, dtype=float)\n",
    "\n",
    "for i, agent_number in tqdm(enumerate(agent_numbers), desc=\"Processing Agents\", total=len(agent_numbers)):\n",
    "    print(f\"Processing agent: {agent_number}\")\n",
    "    \n",
    "    for j, grid_dimension in tqdm(enumerate(grid_dimensions), desc=f\"Grid Processing\", leave=False, total=len(grid_dimensions)):\n",
    "        nodesNumber = grid_dimension * grid_dimension\n",
    "        grid_graph = GridGraph(grid_dimension, grid_dimension)\n",
    "        consensus_times = []\n",
    "        \n",
    "        for k in range(num_of_experiments):\n",
    "            agents = DTMC_Utils.initAgents(agent_number, nodesNumber)\n",
    "            experiment = MultiRobotTargetSearch(agents, grid_graph, reference_information_state, None, alpha, _random_target=True, _preferred_direction=True)\n",
    "            experiment.run()\n",
    "            consensus_times.append(experiment.getMeanConsensusTime())\n",
    "        \n",
    "        Z[j, i] = np.mean(consensus_times)\n",
    "        Z_std[j, i] = np.std(consensus_times)"
   ],
   "metadata": {
    "collapsed": false,
    "is_executing": true,
    "ExecuteTime": {
     "start_time": "2024-11-22T19:41:30.168451407Z"
    }
   },
   "id": "e4467a5c9e9bce9c"
  },
  {
   "cell_type": "code",
   "execution_count": null,
   "outputs": [],
   "source": [
    "output_file = 'preferred_direction_analysis.npz'\n",
    "\n",
    "# Salva i dati come un file .npz, inclusi X e Y\n",
    "np.savez(output_file, X=X, Y=Y, Z=Z, Z_std=Z_std, agent_numbers=agent_numbers, grid_dimensions=grid_dimensions)\n",
    "\n",
    "print(f\"Tutti i dati salvati correttamente in {output_file}\")"
   ],
   "metadata": {
    "collapsed": false,
    "is_executing": true
   },
   "id": "644d8fbe187ce505"
  },
  {
   "cell_type": "code",
   "execution_count": null,
   "outputs": [],
   "source": [
    "fig = plt.figure()\n",
    "ax = fig.add_subplot(111, projection='3d')\n",
    "\n",
    "surf = ax.plot_surface(X, Y, Z, cmap='viridis', edgecolor='none')\n",
    "\n",
    "cbar = fig.colorbar(surf, ax=ax, pad=0.15, aspect=3)\n",
    "\n",
    "ax.set_xlabel('Agents number')\n",
    "ax.set_ylabel('Grid dimension')\n",
    "ax.set_zlabel('Average iterations until consensus')\n",
    "\n",
    "ax.yaxis.set_major_locator(MaxNLocator(integer=True))\n",
    "\n",
    "plt.show()"
   ],
   "metadata": {
    "collapsed": false,
    "is_executing": true
   },
   "id": "37e208041b327110"
  },
  {
   "cell_type": "code",
   "execution_count": null,
   "outputs": [],
   "source": [
    "# Media i valori di Z e Z_std per ogni numero di agenti (fisso X e varia Y)\n",
    "Z_mean_over_grids = np.mean(Z, axis=0)\n",
    "Z_std_over_grids = np.mean(Z_std, axis=0)\n",
    "\n",
    "# Media i valori di Z e Z_std per ogni dimensione di griglia (fisso Y e varia X)\n",
    "Z_mean_over_agents = np.mean(Z, axis=1)\n",
    "Z_std_over_agents = np.mean(Z_std, axis=1)\n",
    "\n",
    "# Plot con X (numero di agenti) e Y mediato\n",
    "DTMC_Utils.plot_average_execution_time(\n",
    "    agent_numbers, Z_mean_over_grids, Z_std_over_grids, \n",
    "    \"Number of Agents\", \"Average Execution Time vs Number of Agents (averaged over grid sizes)\"\n",
    ")\n",
    "\n",
    "# Plot con Y (dimensione della griglia) e X mediato\n",
    "DTMC_Utils.plot_average_execution_time(\n",
    "    grid_dimensions, Z_mean_over_agents, Z_std_over_agents, \n",
    "    \"Grid Dimension\", \"Average Execution Time vs Grid Dimension (averaged over agent numbers)\"\n",
    ")"
   ],
   "metadata": {
    "collapsed": false,
    "is_executing": true
   },
   "id": "b22caeaf11cfa087"
  }
 ],
 "metadata": {
  "kernelspec": {
   "display_name": "Python 3",
   "language": "python",
   "name": "python3"
  },
  "language_info": {
   "codemirror_mode": {
    "name": "ipython",
    "version": 2
   },
   "file_extension": ".py",
   "mimetype": "text/x-python",
   "name": "python",
   "nbconvert_exporter": "python",
   "pygments_lexer": "ipython2",
   "version": "2.7.6"
  }
 },
 "nbformat": 4,
 "nbformat_minor": 5
}
