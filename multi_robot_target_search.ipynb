{
 "cells": [
  {
   "cell_type": "markdown",
   "source": [
    "Stochastic Modelling and Simulation project:\n",
    "Multi-Robot Target Search using Probabilistic Consensus on Discrete Markov Chains."
   ],
   "metadata": {
    "collapsed": false
   },
   "id": "cdb1b086a721ec08"
  },
  {
   "cell_type": "code",
   "execution_count": 1,
   "outputs": [],
   "source": [
    "import numpy as np\n",
    "from Utils.Agent import Agent\n",
    "from Utils.GridGraph import GridGraph\n",
    "from MultiRobotTargetSearch import MultiRobotTargetSearch\n",
    "import matplotlib.pyplot as plt\n",
    "from matplotlib.ticker import MaxNLocator"
   ],
   "metadata": {
    "collapsed": false,
    "ExecuteTime": {
     "end_time": "2024-10-28T13:44:18.751566118Z",
     "start_time": "2024-10-28T13:44:18.307993232Z"
    }
   },
   "id": "9a691c4742471275"
  },
  {
   "cell_type": "code",
   "execution_count": 2,
   "outputs": [],
   "source": [
    "np.random.seed(12345)"
   ],
   "metadata": {
    "collapsed": false,
    "ExecuteTime": {
     "end_time": "2024-10-28T13:44:18.760896014Z",
     "start_time": "2024-10-28T13:44:18.753551322Z"
    }
   },
   "id": "21a259cd93fc0256"
  },
  {
   "cell_type": "markdown",
   "source": [
    "\n",
    "Experimental parameter:"
   ],
   "metadata": {
    "collapsed": false
   },
   "id": "de63c499e1b571fa"
  },
  {
   "cell_type": "code",
   "execution_count": 3,
   "outputs": [],
   "source": [
    "N = 3 # number of agents\n",
    "\n",
    "alpha = 0.08 # to be chosen in (0, 1/d_max) <- d_max = N-1\n",
    "\n",
    "map_width = 3 # (meters)\n",
    "map_height = 3\n",
    "\n",
    "S = map_width * map_height # number of nodes (locations)"
   ],
   "metadata": {
    "collapsed": false,
    "ExecuteTime": {
     "end_time": "2024-10-28T13:44:18.789661831Z",
     "start_time": "2024-10-28T13:44:18.762480507Z"
    }
   },
   "id": "e797cec0da115198"
  },
  {
   "cell_type": "markdown",
   "source": [
    "\n",
    "Graph initialization:"
   ],
   "metadata": {
    "collapsed": false
   },
   "id": "91a349877b7e973a"
  },
  {
   "cell_type": "code",
   "execution_count": 4,
   "outputs": [
    {
     "data": {
      "text/plain": "<Figure size 640x480 with 1 Axes>",
      "image/png": "[encoded data removed]"
     },
     "metadata": {},
     "output_type": "display_data"
    }
   ],
   "source": [
    "grid_graph = GridGraph(map_width, map_height)\n",
    "grid_graph.plot_graph() "
   ],
   "metadata": {
    "collapsed": false,
    "ExecuteTime": {
     "end_time": "2024-10-28T13:44:18.879231021Z",
     "start_time": "2024-10-28T13:44:18.791620354Z"
    }
   },
   "id": "a4348ec77ee2bbdf"
  },
  {
   "cell_type": "markdown",
   "source": [
    "Target init:"
   ],
   "metadata": {
    "collapsed": false
   },
   "id": "b45e1d419e7ac615"
  },
  {
   "cell_type": "code",
   "execution_count": 5,
   "outputs": [
    {
     "name": "stdout",
     "output_type": "stream",
     "text": [
      "The reference information state is: 1\n",
      "Target is observable from nodes: [4, 5, 6]\n"
     ]
    }
   ],
   "source": [
    "reference_information_state = 1\n",
    "Z_r = [4, 5, 6] \n",
    "print(\"The reference information state is: \" + str(reference_information_state))\n",
    "print(\"Target is observable from nodes: \" + str(Z_r))"
   ],
   "metadata": {
    "collapsed": false,
    "ExecuteTime": {
     "end_time": "2024-10-28T13:44:18.879714760Z",
     "start_time": "2024-10-28T13:44:18.873712431Z"
    }
   },
   "id": "2532fb94e0c2ffb2"
  },
  {
   "cell_type": "markdown",
   "source": [
    "Agents init:"
   ],
   "metadata": {
    "collapsed": false
   },
   "id": "15d522c40ff2b78c"
  },
  {
   "cell_type": "code",
   "execution_count": 6,
   "outputs": [
    {
     "name": "stdout",
     "output_type": "stream",
     "text": [
      "Agent ID: 1, \n",
      "Position: 2 \n",
      "Information state: 0.8901547142593231\n",
      "\n",
      "Agent ID: 2, \n",
      "Position: 1 \n",
      "Information state: 0.18391881167709445\n",
      "\n",
      "Agent ID: 3, \n",
      "Position: 5 \n",
      "Information state: 0.5320779204036645\n"
     ]
    }
   ],
   "source": [
    "def initAgents(number_of_agents, number_of_nodes):\n",
    "    agent_list = []\n",
    "    for i in range(number_of_agents):\n",
    "        initial_node = np.random.randint(0, number_of_nodes)\n",
    "        agent = Agent(i+1, initial_node)\n",
    "        agent_list.append(agent)\n",
    "    return agent_list    \n",
    "\n",
    "agents = initAgents(N,S)\n",
    "for ag in agents:\n",
    "    print(ag)"
   ],
   "metadata": {
    "collapsed": false,
    "ExecuteTime": {
     "end_time": "2024-10-28T13:44:18.940819288Z",
     "start_time": "2024-10-28T13:44:18.878823253Z"
    }
   },
   "id": "88afa5aff6a1a6d0"
  },
  {
   "cell_type": "markdown",
   "source": [
    "Graph class representing agent's environment"
   ],
   "metadata": {
    "collapsed": false
   },
   "id": "b8618b8c21de1c46"
  },
  {
   "cell_type": "code",
   "execution_count": 7,
   "outputs": [
    {
     "name": "stdout",
     "output_type": "stream",
     "text": [
      "Finished. Information State Vector: [[1.]\n",
      " [1.]\n",
      " [1.]\n",
      " [1.]]\n"
     ]
    }
   ],
   "source": [
    "experiment = MultiRobotTargetSearch(agents, grid_graph, reference_information_state, Z_r, alpha)\n",
    "experiment.run()\n",
    "print(f\"Finished. Information State Vector: {experiment.getInformationStateVector()}\")         \n",
    "#print(f\"{experiment.getIterationNumber()} iterazioni in {experiment.getExecutionTime()} secondi\")"
   ],
   "metadata": {
    "collapsed": false,
    "ExecuteTime": {
     "end_time": "2024-10-28T13:44:18.941105574Z",
     "start_time": "2024-10-28T13:44:18.923221528Z"
    }
   },
   "id": "1cfd91c6fb7708f4"
  },
  {
   "cell_type": "markdown",
   "source": [],
   "metadata": {
    "collapsed": false
   },
   "id": "fb792cbfe2c1ee4c"
  },
  {
   "cell_type": "code",
   "execution_count": 8,
   "outputs": [],
   "source": [
    "def plot_average_execution_time(agents_number_list, average_execution_time_list):\n",
    "    plt.figure(figsize=(8, 6))\n",
    "    plt.plot(agents_number_list, average_execution_time_list, marker='o', linestyle='-', color='b', label='Average Execution Time')\n",
    "    plt.xlabel(\"Number of Agents\")\n",
    "    plt.ylabel(\"Average Execution Time (s)\")\n",
    "    plt.title(\"Average Execution Time vs Number of Agents\")\n",
    "    plt.legend()\n",
    "    plt.grid(True)\n",
    "    plt.gca().xaxis.set_major_locator(MaxNLocator(integer=True))\n",
    "    plt.show()"
   ],
   "metadata": {
    "collapsed": false,
    "ExecuteTime": {
     "end_time": "2024-10-28T13:44:18.941197626Z",
     "start_time": "2024-10-28T13:44:18.923356205Z"
    }
   },
   "id": "fbe97b121973e28"
  },
  {
   "cell_type": "markdown",
   "source": [],
   "metadata": {
    "collapsed": false
   },
   "id": "f913e1ecb7a9faf9"
  },
  {
   "cell_type": "code",
   "execution_count": 9,
   "outputs": [
    {
     "data": {
      "text/plain": "<Figure size 800x600 with 1 Axes>",
      "image/png": "[encoded data removed]"
     },
     "metadata": {},
     "output_type": "display_data"
    }
   ],
   "source": [
    "num_of_experiments = 1000\n",
    "N = [2,3,4,5,6]\n",
    "#N = [2,3,4,5,6,7,8,9,10,11,12]\n",
    "average_execution_time = []\n",
    "average_iterations = []\n",
    "average_consensus_time = []\n",
    "\n",
    "for agent_number in N:\n",
    "    nodesNumber = grid_graph.getNodesNumber()\n",
    "    count = 0\n",
    "    consensus_times = []\n",
    "    exec_time_sum = 0\n",
    "    iterations_sum = 0\n",
    "    alpha = 1 / (agent_number - 1)\n",
    "    \n",
    "    for j in range(num_of_experiments): \n",
    "        agents = initAgents(agent_number, nodesNumber)\n",
    "        experiment = MultiRobotTargetSearch(agents, grid_graph, reference_information_state, Z_r, alpha)\n",
    "        experiment.run()\n",
    "        consensus_times.append(experiment.getMeanConsensusTime())\n",
    "        #print(f\"exec time at experiment {j}: {experiment.getExecutionTime()}\")\n",
    "        #exec_time_sum += experiment.getExecutionTime()\n",
    "        #iterations_sum += experiment.getIterationNumber()\n",
    "        #count+=1\n",
    "    #print(f\"average time: {exec_time_sum / count}\")\n",
    "    #average_execution_time.append(exec_time_sum / count)\n",
    "    #average_iterations.append(iterations_sum / count)\n",
    "    average_consensus_time.append(np.mean(consensus_times))\n",
    "\n",
    "plot_average_execution_time(N, average_consensus_time)\n",
    "# plot_average_execution_time(N, average_execution_time)\n",
    "# plot_average_execution_time(N, average_iterations)\n"
   ],
   "metadata": {
    "collapsed": false,
    "ExecuteTime": {
     "end_time": "2024-10-28T13:44:23.784153733Z",
     "start_time": "2024-10-28T13:44:18.923421263Z"
    }
   },
   "id": "fc5731d6bd49904f"
  }
 ],
 "metadata": {
  "kernelspec": {
   "display_name": "Python 3",
   "language": "python",
   "name": "python3"
  },
  "language_info": {
   "codemirror_mode": {
    "name": "ipython",
    "version": 2
   },
   "file_extension": ".py",
   "mimetype": "text/x-python",
   "name": "python",
   "nbconvert_exporter": "python",
   "pygments_lexer": "ipython2",
   "version": "2.7.6"
  }
 },
 "nbformat": 4,
 "nbformat_minor": 5
}
