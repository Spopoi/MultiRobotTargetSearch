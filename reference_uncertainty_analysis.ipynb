{
 "cells": [
  {
   "cell_type": "code",
   "execution_count": 1,
   "id": "initial_id",
   "metadata": {
    "collapsed": true,
    "ExecuteTime": {
     "end_time": "2024-11-23T11:41:41.208630032Z",
     "start_time": "2024-11-23T11:41:40.729767816Z"
    }
   },
   "outputs": [],
   "source": [
    "import numpy as np\n",
    "from Utils.DTMC_Utils import DTMC_Utils\n",
    "from Utils.GridGraph import GridGraph\n",
    "from MultiRobotTargetSearch import MultiRobotTargetSearch\n",
    "import matplotlib.pyplot as plt\n",
    "from matplotlib.ticker import MaxNLocator\n",
    "from tqdm import tqdm"
   ]
  },
  {
   "cell_type": "code",
   "execution_count": 2,
   "outputs": [],
   "source": [
    "np.random.seed(12345)"
   ],
   "metadata": {
    "collapsed": false,
    "ExecuteTime": {
     "end_time": "2024-11-23T11:41:41.212339939Z",
     "start_time": "2024-11-23T11:41:41.203386616Z"
    }
   },
   "id": "8d4c2cb49c8c097e"
  },
  {
   "cell_type": "code",
   "execution_count": 3,
   "outputs": [
    {
     "name": "stderr",
     "output_type": "stream",
     "text": [
      "100%|██████████| 1000/1000 [00:15<00:00, 63.84it/s]"
     ]
    },
    {
     "name": "stdout",
     "output_type": "stream",
     "text": [
      "Mean value:  11.370400000000002\n",
      "SD:  5.9908466713812665\n",
      "Noisy mean value:  13.4978\n",
      "sd_noisy:  7.5596345916982\n"
     ]
    },
    {
     "name": "stderr",
     "output_type": "stream",
     "text": [
      "\n"
     ]
    }
   ],
   "source": [
    "num_of_experiments = 1000\n",
    "agent_number = 5\n",
    "grid_dimension = 5\n",
    "nodesNumber = grid_dimension * grid_dimension\n",
    "grid_graph = GridGraph(grid_dimension, grid_dimension)\n",
    "\n",
    "alpha = 1\n",
    "Z_r = [4, 5, 6]\n",
    "reference_information_state = 1\n",
    "\n",
    "average_execution_times_noisy = np.zeros(num_of_experiments, dtype=float)\n",
    "average_execution_times = np.zeros(num_of_experiments, dtype=float)\n",
    "\n",
    "for i in tqdm(range(num_of_experiments)):\n",
    "    agents = DTMC_Utils.initAgents(agent_number, nodesNumber)\n",
    "    initial_positions = [a.getPosition() for a in agents]\n",
    "    \n",
    "    experiment = MultiRobotTargetSearch(agents, grid_graph, reference_information_state, Z_r, alpha)\n",
    "    initial_state = experiment.getInformationStateVector()\n",
    "    \n",
    "    experiment.run()\n",
    "    average_execution_times[i] = experiment.getMeanConsensusTime()\n",
    "    \n",
    "    for (j, a) in enumerate(agents):\n",
    "        a.updatePosition(initial_positions[j])\n",
    "        \n",
    "    # Noisy experiment\n",
    "    noisy_experiment = MultiRobotTargetSearch(agents, grid_graph, reference_information_state, Z_r, alpha, _noisy_measure=True)\n",
    "    noisy_experiment.update_agents_information_state(initial_state[:-1])\n",
    "    noisy_experiment.run()\n",
    "    average_execution_times_noisy[i] = noisy_experiment.getMeanConsensusTime()\n",
    "\n",
    "average_time = np.mean(average_execution_times)\n",
    "sd = np.std(average_execution_times)\n",
    "noisy_average_time = np.mean(average_execution_times_noisy)\n",
    "sd_noisy = np.std(average_execution_times_noisy)\n",
    "\n",
    "\n",
    "print(\"Mean value: \", average_time)\n",
    "print(\"SD: \", sd)\n",
    "print(\"Noisy mean value: \", noisy_average_time)\n",
    "print(\"sd_noisy: \", sd_noisy)"
   ],
   "metadata": {
    "collapsed": false,
    "ExecuteTime": {
     "end_time": "2024-11-23T11:41:56.912674780Z",
     "start_time": "2024-11-23T11:41:41.215496159Z"
    }
   },
   "id": "94a427feab18f498"
  }
 ],
 "metadata": {
  "kernelspec": {
   "display_name": "Python 3",
   "language": "python",
   "name": "python3"
  },
  "language_info": {
   "codemirror_mode": {
    "name": "ipython",
    "version": 2
   },
   "file_extension": ".py",
   "mimetype": "text/x-python",
   "name": "python",
   "nbconvert_exporter": "python",
   "pygments_lexer": "ipython2",
   "version": "2.7.6"
  }
 },
 "nbformat": 4,
 "nbformat_minor": 5
}
